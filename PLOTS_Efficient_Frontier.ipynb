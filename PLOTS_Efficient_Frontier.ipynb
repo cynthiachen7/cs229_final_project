{
  "cells": [
    {
      "cell_type": "code",
      "execution_count": null,
      "metadata": {
        "id": "rZ8Xb5BtOZbK"
      },
      "outputs": [],
      "source": [
        "\n",
        "import yfinance as yf\n",
        "%matplotlib inline\n",
        "import numpy as np\n",
        "import matplotlib.pyplot as plt\n",
        "import cvxopt as opt\n",
        "from cvxopt import blas, solvers\n",
        "import pandas as pd\n",
        "import random\n",
        "\n",
        "import plotly\n",
        "import cufflinks\n",
        "plotly.__version__\n",
        "from datetime import datetime, timedelta\n",
        "\n",
        "## helper functions\n",
        "\n",
        "\"\"\"\n",
        "This grabs the start date given the end date and how\n",
        "many days back you want to go\n",
        "Input: string, int\n",
        "Return: string\n",
        "\"\"\"\n",
        "def date_before_x_days(end_date, days_back):\n",
        "  start_date = datetime.strptime(end_date, '%Y-%m-%d') - timedelta(days=days_back)\n",
        "  return start_date.strftime('%Y-%m-%d')\n",
        "\n",
        "\n",
        "\"\"\"\n",
        "This deletes any stocks that doesn't have data from\n",
        "our data set. Updates stocks left, data set, and the\n",
        "stock count.\n",
        "Input: list<string>, dataframe, int\n",
        "Return: list<string>, dataframe, int\n",
        "\"\"\"\n",
        "def clean_data(stocks, dataset, stock_count):\n",
        "  no_vals = []  ## stocks that don't have data\n",
        "  for stock in stocks:\n",
        "    d = dataset[\"Close\"][stock].to_list()\n",
        "    if any(np.isnan(i) for i in d):\n",
        "      no_vals.append(stock)\n",
        "\n",
        "  stock_count -= len(no_vals)  ## eliminating empty stock from count\n",
        "\n",
        "  for stock in no_vals:\n",
        "    stocks.remove(stock)  ## eliminating empty stock from STOCKS\n",
        "    dataset = dataset.drop(columns=stock, level = 1)  ## dropping these stocks from our data\n",
        "\n",
        "  return stocks, dataset, stock_count\n",
        "\n",
        "\n",
        "\"\"\"\n",
        "Given a dataset, we construct a dictionary representation\n",
        "of our feature matrix to ensure the features are in the\n",
        "same column. They are also labeled for simplicity\n",
        "Outmost key is stock name\n",
        "Inner key is feature name\n",
        "Input: list<string>, dataframe, int\n",
        "Return: dict<string, dict<string, int>>\n",
        "\"\"\"\n",
        "def make_feature_dict(stocks, dataset, window):\n",
        "  X = {stock : {\"const\" : 1} for stock in stocks}  ## this will be our data\n",
        "\n",
        "  ## Adj Close, Close, High, Low, Open, Volume (added here) (these are for a single day)\n",
        "  for stock in stocks:\n",
        "    X[stock][\"Adj Close\"] = dataset[\"Adj Close\"][stock][-1]\n",
        "    X[stock][\"Close\"] = dataset[\"Close\"][stock][-1]\n",
        "    X[stock][\"High\"] = dataset[\"High\"][stock][-1]\n",
        "    X[stock][\"Low\"] = dataset[\"Low\"][stock][-1]\n",
        "    X[stock][\"Open\"] = dataset[\"Open\"][stock][-1]\n",
        "    X[stock][\"Volume\"] = dataset[\"Volume\"][stock][-1]\n",
        "\n",
        "  ## SMA, Volatility, EMA, RSI (over last WINDOW_SIZE days) (these are more long-term information)\n",
        "  for stock in stocks:\n",
        "    g = dataset[\"Adj Close\"][stock]  ## I used Adjusted Close for stability\n",
        "\n",
        "    X[stock][\"SMA\"] = g.rolling(window=window).mean().iloc[-1]\n",
        "    f = np.log(g / g.shift(1))\n",
        "    X[stock][\"Volatility\"] = np.std(f[-window:])  ## this is how you calculate volatility\n",
        "    X[stock][\"EMA\"] = g.ewm(span=window, adjust=False).mean().iloc[-1]\n",
        "\n",
        "    delta = g.diff(1)\n",
        "    gain = (delta.where(delta > 0, 0)).rolling(window=window).mean()\n",
        "    loss = (-delta.where(delta < 0, 0)).rolling(window=window).mean()\n",
        "    rs = gain / loss\n",
        "    rsi = 100 - (100 / (1 + rs))\n",
        "\n",
        "    X[stock][\"RSI\"] = rsi.iloc[-1]\n",
        "  return X\n",
        "\n",
        "\n",
        "\"\"\"\n",
        "Turns the Feature Matrix in Dictionary Form into an actual numpy matrix\n",
        "\"\"\"\n",
        "def dict_to_matrix(X):\n",
        "  X_matrix = []\n",
        "  for stock, features in X.items():\n",
        "    temp = []\n",
        "\n",
        "    for name, feature in features.items():\n",
        "      temp.append(feature)\n",
        "\n",
        "    X_matrix.append(temp)\n",
        "\n",
        "  return np.array(X_matrix)\n",
        "\n",
        "\n",
        "\"\"\"\n",
        "Obtains the Y vector for the given stocks on the end_date\n",
        "Input: string, int, list<string>\n",
        "Return: list<int>\n",
        "\"\"\"\n",
        "def obtain_y(end_date, stocks, days_back=7):\n",
        "  start_date = date_before_x_days(end_date, days_back)\n",
        "  y_data = yf.download(stocks, start=start_date, end=end_date)[\"Adj Close\"].iloc[-1]\n",
        "  return np.array([y_data[stock] for stock in stocks])"
      ]
    },
    {
      "cell_type": "code",
      "source": [
        "# 3/19/24: Here, I am plotting the efficient frontier.\n",
        "from sklearn.model_selection import train_test_split\n",
        "URL = 'https://en.wikipedia.org/wiki/List_of_S%26P_500_companies'\n",
        "sp500_data = pd.read_html(URL)[0]\n",
        "\n",
        "ALL_STOCKS = sp500_data['Symbol'].to_list()  ## grab random sample of this??\n",
        "# First, I want to generate many different portfolios. Let's say we create 10 to start\n",
        "num_portfolios = 10\n",
        "portfolios = []\n",
        "\n",
        "# First method: Loop to create portfolios\n",
        "for i in range(num_portfolios):\n",
        "    start = i * 50\n",
        "    num_stocks = (i + 1) * 50\n",
        "    portfolio_stocks = ALL_STOCKS[start:num_stocks]\n",
        "    portfolios.append(portfolio_stocks)\n",
        "print(len(portfolios))\n",
        "\n",
        "# Second method\n",
        "ALL_STOCKS = ALL_STOCKS[:100]\n",
        "for i in range(num_portfolios):\n",
        "    portfolios.append(random.sample(ALL_STOCKS, 50)) # Second method\n",
        "print(len(portfolios))"
      ],
      "metadata": {
        "colab": {
          "base_uri": "https://localhost:8080/"
        },
        "id": "I8GiauoMw1wO",
        "outputId": "f1125bf7-6fa9-44f0-fb78-0d1751641863"
      },
      "execution_count": null,
      "outputs": [
        {
          "output_type": "stream",
          "name": "stdout",
          "text": [
            "10\n"
          ]
        }
      ]
    },
    {
      "cell_type": "code",
      "source": [
        "# Helper functions\n",
        "###############################################################################\n",
        "import numpy as np\n",
        "from scipy.optimize import minimize\n",
        "\n",
        "GO_BACK = 50  ## DATA USED FOR ML\n",
        "\n",
        "# Step 1: RIDGE REGRESSION\n",
        "def ridge_obtain_thetas(training_X, training_y, lmbda = 2, iterations = 10000000, eps = 1e-3, alpha = 1e-5):\n",
        "    cur_weights = np.zeros(training_X.shape[1])\n",
        "    for _ in range(iterations):\n",
        "      old_weights = cur_weights\n",
        "      cur_weights = old_weights - alpha * (training_X.T.dot(training_X.dot(old_weights) - training_y) + lmbda * old_weights)\n",
        "      if np.linalg.norm(cur_weights - old_weights) < eps:\n",
        "        break\n",
        "      else:\n",
        "        print(\"increase iterations\")\n",
        "\n",
        "      theta = cur_weights\n",
        "      return theta\n",
        "\n",
        "# Step 2: HISTORICAL MATRIX STUFF\n",
        "def generate_daily_return_vec(closing_prices_vec):\n",
        "  daily_returns_vec = []\n",
        "  for i in range(1, len(closing_prices_vec)):\n",
        "    daily_return = ((closing_prices_vec[i] - closing_prices_vec[i-1]) / closing_prices_vec[i-1]) * 100\n",
        "    daily_returns_vec.append(daily_return)\n",
        "  return daily_returns_vec\n",
        "\n",
        "# Helper function to calculate the covariance between two assets\n",
        "def calculate_covariance_hist(asset1, asset2):\n",
        "  closing_prices_asset1 = testing_data[\"Adj Close\"][asset1][-GO_BACK:]\n",
        "  closing_prices_asset2 = testing_data[\"Adj Close\"][asset2][-GO_BACK:]\n",
        "  daily_returns_asset1, daily_returns_asset2 = generate_daily_return_vec(closing_prices_asset1), generate_daily_return_vec(closing_prices_asset2)\n",
        "  sample_means_1, sample_means_2 = np.mean(daily_returns_asset1), np.mean(daily_returns_asset2)\n",
        "  # Subtract the sample means from each element of the respective daily returns vectors\n",
        "  deviation_1, deviation_2 = daily_returns_asset1 - sample_means_1, daily_returns_asset2 - sample_means_2\n",
        "  # Next step\n",
        "  un_normalized_covariance = np.sum(deviation_1 * deviation_2) # element-wise multiplication\n",
        "  covariance = (1 / (GO_BACK - 1)) * un_normalized_covariance # Check that N - 1 is correct\n",
        "  return covariance\n",
        "\n",
        "# Function to calculate covariance matrix given a vector of stocks\n",
        "def calculate_covariance_matrix_hist(stocks): #param: vector of stocks\n",
        "  num_stocks = len(stocks)\n",
        "  covariance_matrix = np.zeros((num_stocks, num_stocks))\n",
        "  for i in range(num_stocks):\n",
        "    asset1 = stocks[i]\n",
        "    for j in range(num_stocks):\n",
        "      asset2 = stocks[j]\n",
        "      covariance_matrix[i, j] = calculate_covariance_hist(asset1, asset2)\n",
        "  return covariance_matrix\n",
        "\n",
        "# Simple model\n",
        "def calculate_markowitz_weights_simple(sigma_squared, expected_returns, covariance_matrix):\n",
        "\n",
        "  def objective(weights, expected_returns):\n",
        "    return -np.dot(weights, expected_returns)\n",
        "\n",
        "  # Weights must be between 0 and 1\n",
        "  bounds = tuple((0, 1) for _ in range(len(expected_returns)))\n",
        "\n",
        "  # Initial guess for weights\n",
        "  initial_guess = np.ones(len(expected_returns)) / len(expected_returns) # [1/5, 1/5, etc.]\n",
        "\n",
        "  constraint = ({'type': 'eq', 'fun': lambda weights: np.sum(weights) - 1})\n",
        "\n",
        "  result = minimize(objective, initial_guess, args=(expected_returns,), method='SLSQP', bounds=bounds, constraints=constraint)\n",
        "  optimal_weights_complex = result.x\n",
        "  return optimal_weights_complex\n",
        "\n",
        "# Step 3: Complex (2-constraint) Markowitz model\n",
        "def calculate_markowitz_weights_complex(sigma_squared, expected_returns, covariance_matrix):\n",
        "\n",
        "  def objective(weights, expected_returns):\n",
        "    return -np.dot(weights, expected_returns)\n",
        "\n",
        "  # Set bounds for individual weights (0 <= weight <= 1)\n",
        "  bounds = tuple((0, 1) for _ in range(len(expected_returns)))\n",
        "\n",
        "  # Initial guess for weights\n",
        "  initial_guess = np.ones(len(expected_returns)) / len(expected_returns) # [1/5, 1/5, etc.]\n",
        "\n",
        "  # Constraints\n",
        "  constraint_1 = ({'type': 'eq', 'fun': lambda weights: np.sum(weights) - 1})\n",
        "  constraint_2 = {'type': 'ineq', 'fun': lambda weights: sigma_squared - np.dot(weights.T, np.dot(covariance_matrix, weights))}\n",
        "  constraints = [constraint_1, constraint_2]\n",
        "\n",
        "  result = minimize(objective, initial_guess, args=(expected_returns,), method='SLSQP', bounds=bounds, constraints=constraints)\n",
        "  optimal_weights_complex = result.x\n",
        "  return optimal_weights_complex\n",
        "\n",
        "# FOR A GIVEN LEVEL OF RISK (has to EQUAL sigma_squared)\n",
        "def calculate_markowitz_weights_efficient(sigma_squared, expected_returns, covariance_matrix):\n",
        "\n",
        "  def objective(weights, expected_returns):\n",
        "    return -np.dot(weights, expected_returns)\n",
        "\n",
        "  # Set bounds for individual weights (0 <= weight <= 1)\n",
        "  bounds = tuple((0, 1) for _ in range(len(expected_returns)))\n",
        "\n",
        "  # Initial guess for weights\n",
        "  initial_guess = np.ones(len(expected_returns)) / len(expected_returns) # [1/5, 1/5, etc.]\n",
        "\n",
        "  # Constraints\n",
        "  constraint_1 = ({'type': 'eq', 'fun': lambda weights: np.sum(weights) - 1})\n",
        "  constraint_2 = {'type': 'eq', 'fun': lambda weights: sigma_squared - np.dot(weights.T, np.dot(covariance_matrix, weights))}\n",
        "  constraints = [constraint_1, constraint_2]\n",
        "\n",
        "  result = minimize(objective, initial_guess, args=(expected_returns,), method='SLSQP', bounds=bounds, constraints=constraints)\n",
        "  optimal_weights_complex = result.x\n",
        "  return optimal_weights_complex\n",
        "\n",
        "# Step 4: Getting portfolio returns\n",
        "def get_actual_returns(TESTING_STOCKS):\n",
        "  actual_returns_testing = []\n",
        "  for i in range(len(TESTING_STOCKS)):\n",
        "    stock = TESTING_STOCKS[i]\n",
        "    # Grab beginning value (Dec 28 2018)\n",
        "    beginning_val = testing_data[\"Adj Close\"][stock][\"2018-12-28\"] # END_DATE\n",
        "    ending_val = testing_y[i]\n",
        "    ret = ((ending_val - beginning_val) / beginning_val) * 100\n",
        "    actual_returns_testing.append(ret)\n",
        "  return actual_returns_testing\n",
        "\n",
        "def calculate_portfolio_return(weight_vec):\n",
        "  actual_returns = get_actual_returns(TESTING_STOCKS)\n",
        "  portfolio_return = weight_vec.dot(actual_returns)\n",
        "  return portfolio_return\n",
        "\n",
        "# Step 5: Getting portfolio risk\n",
        "def calculate_portfolio_risk(weights, covariance_matrix):\n",
        "    # Calculate portfolio variance\n",
        "    portfolio_variance = np.dot(weights.T, np.dot(covariance_matrix, weights))\n",
        "\n",
        "    # Calculate portfolio standard deviation (risk)\n",
        "    portfolio_risk = np.sqrt(portfolio_variance)\n",
        "\n",
        "    return portfolio_risk\n",
        "\n",
        "# Step 5 alternative: getting portfolio variance\n",
        "def calculate_portfolio_variance(weights, covariance_matrix):\n",
        "    portfolio_variance = np.dot(weights.T, np.dot(covariance_matrix, weights))\n",
        "    return portfolio_variance"
      ],
      "metadata": {
        "id": "y3u8qcZM_BvK"
      },
      "execution_count": null,
      "outputs": []
    },
    {
      "cell_type": "code",
      "source": [
        "import matplotlib.pyplot as plt\n",
        "from scipy.interpolate import interp1d\n",
        "\n",
        "# Next, for each portfolio, calculate the optimal weights using ridge-historical covariance calculation.\n",
        "# Then, using those weights, calculate the portfolio return and portfolio standard deviation.\n",
        "# Plot these ten points on the efficient frontier graph.\n",
        "points = []\n",
        "\n",
        "# Loop\n",
        "for ALL_STOCKS in portfolios:\n",
        "  ALL_STOCK_COUNT = len(ALL_STOCKS)\n",
        "  TESTING_STOCKS = ALL_STOCKS\n",
        "  TRAINING_STOCKS = ALL_STOCKS\n",
        "\n",
        "  WINDOW_SIZE = 502  ## ALL THE DATA\n",
        "  GO_BACK = 50  ## DATA USED FOR ML\n",
        "\n",
        "\n",
        "  TRAINING_END_DATE = \"2013-12-31\"  ## training matrix data from this time period\n",
        "  TRAINING_START_DATE = date_before_x_days(TRAINING_END_DATE, WINDOW_SIZE)\n",
        "\n",
        "  TESTING_END_DATE = \"2018-12-31\"  ## testing matrix data from this time period\n",
        "  TESTING_START_DATE = date_before_x_days(TESTING_END_DATE, WINDOW_SIZE)\n",
        "\n",
        "\n",
        "  TRAINING_PREDICTION_DATE = \"2018-12-31\"\n",
        "  TESTING_PREDICTION_DATE = \"2023-12-31\"\n",
        "  training_data = yf.download(ALL_STOCKS, start=TRAINING_START_DATE, end=TRAINING_END_DATE)\n",
        "  testing_data = yf.download(ALL_STOCKS, start=TESTING_START_DATE, end=TESTING_END_DATE)\n",
        "  ALL_STOCKS, training_data, ALL_STOCK_COUNT = clean_data(ALL_STOCKS,\n",
        "                                                          training_data,\n",
        "                                                          ALL_STOCK_COUNT)\n",
        "  ALL_STOCKS, testing_data, ALL_STOCK_COUNT = clean_data(ALL_STOCKS,\n",
        "                                                          testing_data,\n",
        "                                                          ALL_STOCK_COUNT)\n",
        "  ALL_STOCKS, training_data, ALL_STOCK_COUNT = clean_data(ALL_STOCKS,\n",
        "                                                          training_data,\n",
        "                                                          ALL_STOCK_COUNT)\n",
        "  training_X_dict = make_feature_dict(ALL_STOCKS,\n",
        "                                      training_data,\n",
        "                                      GO_BACK)\n",
        "\n",
        "  testing_X_dict = make_feature_dict(ALL_STOCKS,\n",
        "                                    testing_data,\n",
        "                                    GO_BACK)\n",
        "  training_X = dict_to_matrix(training_X_dict)\n",
        "\n",
        "  testing_X = dict_to_matrix(testing_X_dict)\n",
        "  n = training_X.shape[1]\n",
        "  feature_norms = np.zeros(n)\n",
        "\n",
        "  for i in range(n):\n",
        "    col = training_X[:, i]\n",
        "    feature_norms[i] = np.linalg.norm(col)\n",
        "\n",
        "  training_X = training_X / feature_norms\n",
        "  testing_X = testing_X / feature_norms\n",
        "  training_y = obtain_y(TRAINING_PREDICTION_DATE, ALL_STOCKS)\n",
        "  testing_y = obtain_y(TESTING_PREDICTION_DATE, ALL_STOCKS)\n",
        "\n",
        "  # Get thetas\n",
        "  theta = ridge_obtain_thetas(training_X, training_y)\n",
        "\n",
        "  # Get expected_returns_ridge vector\n",
        "  proj = testing_X.dot(theta)\n",
        "  adj = testing_X[:, 1] * feature_norms[1]  ## un-normalizing the matrix\n",
        "  expected_returns_ridge = (proj - adj) / adj\n",
        "\n",
        "  # Get historical covariance matrix\n",
        "  covariance_matrix_historical = calculate_covariance_matrix_hist(TESTING_STOCKS)\n",
        "\n",
        "  # Get the weights using 0.15 for sigma squared # maybe I should use simple instead...\n",
        "  weights_complex = calculate_markowitz_weights_complex(0.15, expected_returns_ridge, covariance_matrix_historical)\n",
        "\n",
        "  # Calculate portfolio return for this portfolio\n",
        "  portfolio_return = calculate_portfolio_return(weights_complex)\n",
        "  portfolio_return = portfolio_return * 0.01\n",
        "  # Calculate portfolio risk = portfolio STANDARD DEVIATION\n",
        "  portfolio_risk = calculate_portfolio_risk(weights_complex, covariance_matrix_historical)\n",
        "  print(portfolio_risk)\n",
        "  points.append([portfolio_risk, portfolio_return])\n",
        "\n",
        "# Now, plot all of them\n",
        "risks = [point[0] for point in points]\n",
        "returns = [point[1] for point in points]\n",
        "\n",
        "sharpe_ratios = [(r - 0) / s for r, s in zip(returns, risks)]\n",
        "max_sharpe_index = np.argmax(sharpe_ratios)\n",
        "max_sharpe_portfolio = points[max_sharpe_index]\n",
        "\n",
        "# Plotting the efficient frontier\n",
        "plt.figure(figsize=(10, 6))\n",
        "plt.scatter(risks, returns, color='blue')\n",
        "plt.scatter(risks_eff, returns_eff, color='red')\n",
        "plt.title('Efficient Frontier, sequential portfolio selection')\n",
        "plt.xlabel('Portfolio Risk (Standard Deviation)')\n",
        "plt.ylabel('Portfolio Return')\n",
        "plt.grid(True)\n",
        "for i, point in enumerate(points):\n",
        "    plt.text(point[0], point[1], str(i+1), fontsize=9, verticalalignment='bottom', horizontalalignment='right')\n",
        "\n",
        "plt.scatter(max_sharpe_portfolio[0], max_sharpe_portfolio[1], color='red', label='Max Sharpe Ratio')\n",
        "plt.text(max_sharpe_portfolio[0], max_sharpe_portfolio[1], 'Max Sharpe Ratio', fontsize=9, verticalalignment='bottom', horizontalalignment='right')\n",
        "\n",
        "# Plotting the Capital Allocation Line (CAL) from risk-free rate (0) to max Sharpe portfolio\n",
        "plt.plot([0, max_sharpe_portfolio[0]], [0, max_sharpe_portfolio[1]], color='green', linestyle='--', label='Capital Allocation Line')\n",
        "x_min, x_max = min(risks), max(risks)\n",
        "y_min, y_max = min(returns), max(returns)\n",
        "\n",
        "# Add some padding to the range\n",
        "x_padding = 0.1 * (x_max - x_min)\n",
        "y_padding = 0.1 * (y_max - y_min)\n",
        "\n",
        "# Set the limits of the axes\n",
        "plt.xlim(x_min - x_padding, x_max + x_padding)\n",
        "plt.ylim(y_min - y_padding, y_max + y_padding)\n",
        "plt.legend()\n",
        "plt.savefig('efficient_frontier_plot_complex1.png', dpi=300)  # Change the file extension to .jpg or .jpeg for JPEG format\n",
        "plt.show()"
      ],
      "metadata": {
        "colab": {
          "base_uri": "https://localhost:8080/",
          "height": 1000
        },
        "id": "8CngLlpu68V0",
        "outputId": "fbde26b3-99f7-4cf5-f0b1-7b1a64936828"
      },
      "execution_count": null,
      "outputs": [
        {
          "output_type": "stream",
          "name": "stderr",
          "text": [
            "[*********************100%%**********************]  50 of 50 completed\n",
            "ERROR:yfinance:\n",
            "2 Failed downloads:\n",
            "ERROR:yfinance:['ABNB', 'ANET']: Exception(\"%ticker%: Data doesn't exist for startDate = 1345089600, endDate = 1388466000\")\n",
            "[*********************100%%**********************]  50 of 50 completed\n",
            "ERROR:yfinance:\n",
            "1 Failed download:\n",
            "ERROR:yfinance:['ABNB']: Exception(\"%ticker%: Data doesn't exist for startDate = 1502856000, endDate = 1546232400\")\n",
            "[*********************100%%**********************]  46 of 46 completed\n",
            "[*********************100%%**********************]  46 of 46 completed\n"
          ]
        },
        {
          "output_type": "stream",
          "name": "stdout",
          "text": [
            "increase iterations\n"
          ]
        },
        {
          "output_type": "stream",
          "name": "stderr",
          "text": [
            "\r[                       0%%                      ]\r[                       0%%                      ]"
          ]
        },
        {
          "output_type": "stream",
          "name": "stdout",
          "text": [
            "0.7796336387560243\n"
          ]
        },
        {
          "output_type": "stream",
          "name": "stderr",
          "text": [
            "[*********************100%%**********************]  50 of 50 completed\n",
            "ERROR:yfinance:\n",
            "5 Failed downloads:\n",
            "ERROR:yfinance:['BF.B']: Exception('%ticker%: No price data found, symbol may be delisted (1d 2012-08-16 -> 2013-12-31)')\n",
            "ERROR:yfinance:['CZR', 'CARR', 'CTLT']: Exception(\"%ticker%: Data doesn't exist for startDate = 1345089600, endDate = 1388466000\")\n",
            "ERROR:yfinance:['BRK.B']: Exception('%ticker%: No timezone found, symbol may be delisted')\n",
            "[*********************100%%**********************]  50 of 50 completed\n",
            "ERROR:yfinance:\n",
            "3 Failed downloads:\n",
            "ERROR:yfinance:['BF.B']: Exception('%ticker%: No price data found, symbol may be delisted (1d 2017-08-16 -> 2018-12-31)')\n",
            "ERROR:yfinance:['CARR']: Exception(\"%ticker%: Data doesn't exist for startDate = 1502856000, endDate = 1546232400\")\n",
            "ERROR:yfinance:['BRK.B']: Exception('%ticker%: No timezone found, symbol may be delisted')\n",
            "[*********************100%%**********************]  44 of 44 completed\n",
            "[*********************100%%**********************]  44 of 44 completed\n"
          ]
        },
        {
          "output_type": "stream",
          "name": "stdout",
          "text": [
            "increase iterations\n",
            "0.8185874077831157\n"
          ]
        },
        {
          "output_type": "stream",
          "name": "stderr",
          "text": [
            "[*********************100%%**********************]  50 of 50 completed\n",
            "ERROR:yfinance:\n",
            "4 Failed downloads:\n",
            "ERROR:yfinance:['CFG', 'CEG', 'DAY', 'CTVA']: Exception(\"%ticker%: Data doesn't exist for startDate = 1345089600, endDate = 1388466000\")\n",
            "[*********************100%%**********************]  50 of 50 completed\n",
            "ERROR:yfinance:\n",
            "2 Failed downloads:\n",
            "ERROR:yfinance:['CEG', 'CTVA']: Exception(\"%ticker%: Data doesn't exist for startDate = 1502856000, endDate = 1546232400\")\n",
            "[*********************100%%**********************]  45 of 45 completed\n",
            "[*********************100%%**********************]  45 of 45 completed\n"
          ]
        },
        {
          "output_type": "stream",
          "name": "stdout",
          "text": [
            "increase iterations\n"
          ]
        },
        {
          "output_type": "stream",
          "name": "stderr",
          "text": [
            "\r[                       0%%                      ]"
          ]
        },
        {
          "output_type": "stream",
          "name": "stdout",
          "text": [
            "0.9074023232564029\n"
          ]
        },
        {
          "output_type": "stream",
          "name": "stderr",
          "text": [
            "[*********************100%%**********************]  50 of 50 completed\n",
            "ERROR:yfinance:\n",
            "2 Failed downloads:\n",
            "ERROR:yfinance:['DOW', 'ETSY']: Exception(\"%ticker%: Data doesn't exist for startDate = 1345089600, endDate = 1388466000\")\n",
            "[*********************100%%**********************]  50 of 50 completed\n",
            "ERROR:yfinance:\n",
            "1 Failed download:\n",
            "ERROR:yfinance:['DOW']: Exception(\"%ticker%: Data doesn't exist for startDate = 1502856000, endDate = 1546232400\")\n",
            "[*********************100%%**********************]  48 of 48 completed\n",
            "[*********************100%%**********************]  48 of 48 completed\n"
          ]
        },
        {
          "output_type": "stream",
          "name": "stdout",
          "text": [
            "increase iterations\n"
          ]
        },
        {
          "output_type": "stream",
          "name": "stderr",
          "text": [
            "\r[                       0%%                      ]"
          ]
        },
        {
          "output_type": "stream",
          "name": "stdout",
          "text": [
            "0.827543606981275\n"
          ]
        },
        {
          "output_type": "stream",
          "name": "stderr",
          "text": [
            "[*********************100%%**********************]  50 of 50 completed\n",
            "ERROR:yfinance:\n",
            "6 Failed downloads:\n",
            "ERROR:yfinance:['FOX', 'FOXA', 'HWM', 'FTV', 'HPE', 'GEHC']: Exception(\"%ticker%: Data doesn't exist for startDate = 1345089600, endDate = 1388466000\")\n",
            "[*********************100%%**********************]  50 of 50 completed\n",
            "ERROR:yfinance:\n",
            "3 Failed downloads:\n",
            "ERROR:yfinance:['FOX', 'FOXA', 'GEHC']: Exception(\"%ticker%: Data doesn't exist for startDate = 1502856000, endDate = 1546232400\")\n",
            "[*********************100%%**********************]  43 of 43 completed\n",
            "[*********************100%%**********************]  43 of 43 completed\n"
          ]
        },
        {
          "output_type": "stream",
          "name": "stdout",
          "text": [
            "increase iterations\n"
          ]
        },
        {
          "output_type": "stream",
          "name": "stderr",
          "text": [
            "\r[                       0%%                      ]"
          ]
        },
        {
          "output_type": "stream",
          "name": "stdout",
          "text": [
            "0.929305769890881\n"
          ]
        },
        {
          "output_type": "stream",
          "name": "stderr",
          "text": [
            "[*********************100%%**********************]  50 of 50 completed\n",
            "ERROR:yfinance:\n",
            "6 Failed downloads:\n",
            "ERROR:yfinance:['KHC', 'IR', 'KEYS', 'LW', 'KVUE', 'INVH']: Exception(\"%ticker%: Data doesn't exist for startDate = 1345089600, endDate = 1388466000\")\n",
            "[*********************100%%**********************]  50 of 50 completed\n",
            "ERROR:yfinance:\n",
            "1 Failed download:\n",
            "ERROR:yfinance:['KVUE']: Exception(\"%ticker%: Data doesn't exist for startDate = 1502856000, endDate = 1546232400\")\n",
            "[*********************100%%**********************]  43 of 43 completed\n",
            "[*********************100%%**********************]  43 of 43 completed\n"
          ]
        },
        {
          "output_type": "stream",
          "name": "stdout",
          "text": [
            "increase iterations\n"
          ]
        },
        {
          "output_type": "stream",
          "name": "stderr",
          "text": [
            "\r[                       0%%                      ]"
          ]
        },
        {
          "output_type": "stream",
          "name": "stdout",
          "text": [
            "0.9339646711861161\n"
          ]
        },
        {
          "output_type": "stream",
          "name": "stderr",
          "text": [
            "[*********************100%%**********************]  50 of 50 completed\n",
            "ERROR:yfinance:\n",
            "1 Failed download:\n",
            "ERROR:yfinance:['MRNA']: Exception(\"%ticker%: Data doesn't exist for startDate = 1345089600, endDate = 1388466000\")\n",
            "[*********************100%%**********************]  50 of 50 completed\n",
            "[*********************100%%**********************]  46 of 46 completed\n",
            "[*********************100%%**********************]  46 of 46 completed\n"
          ]
        },
        {
          "output_type": "stream",
          "name": "stdout",
          "text": [
            "increase iterations\n",
            "0.7857765393992611\n"
          ]
        },
        {
          "output_type": "stream",
          "name": "stderr",
          "text": [
            "[*********************100%%**********************]  50 of 50 completed\n",
            "ERROR:yfinance:\n",
            "4 Failed downloads:\n",
            "ERROR:yfinance:['PAYC', 'PYPL', 'OTIS', 'QRVO']: Exception(\"%ticker%: Data doesn't exist for startDate = 1345089600, endDate = 1388466000\")\n",
            "[*********************100%%**********************]  50 of 50 completed\n",
            "ERROR:yfinance:\n",
            "1 Failed download:\n",
            "ERROR:yfinance:['OTIS']: Exception(\"%ticker%: Data doesn't exist for startDate = 1502856000, endDate = 1546232400\")\n",
            "[*********************100%%**********************]  46 of 46 completed\n",
            "[*********************100%%**********************]  46 of 46 completed\n"
          ]
        },
        {
          "output_type": "stream",
          "name": "stdout",
          "text": [
            "increase iterations\n",
            "0.8461144582985738\n"
          ]
        },
        {
          "output_type": "stream",
          "name": "stderr",
          "text": [
            "[*********************100%%**********************]  50 of 50 completed\n",
            "ERROR:yfinance:\n",
            "1 Failed download:\n",
            "ERROR:yfinance:['SYF']: Exception(\"%ticker%: Data doesn't exist for startDate = 1345089600, endDate = 1388466000\")\n",
            "[*********************100%%**********************]  50 of 50 completed\n",
            "[*********************100%%**********************]  49 of 49 completed\n",
            "[*********************100%%**********************]  49 of 49 completed\n"
          ]
        },
        {
          "output_type": "stream",
          "name": "stdout",
          "text": [
            "increase iterations\n"
          ]
        },
        {
          "output_type": "stream",
          "name": "stderr",
          "text": [
            "\r[                       0%%                      ]"
          ]
        },
        {
          "output_type": "stream",
          "name": "stdout",
          "text": [
            "0.860205780647943\n"
          ]
        },
        {
          "output_type": "stream",
          "name": "stderr",
          "text": [
            "[*********************100%%**********************]  50 of 50 completed\n",
            "ERROR:yfinance:\n",
            "4 Failed downloads:\n",
            "ERROR:yfinance:['WRK', 'VICI', 'UBER', 'VLTO']: Exception(\"%ticker%: Data doesn't exist for startDate = 1345089600, endDate = 1388466000\")\n",
            "[*********************100%%**********************]  50 of 50 completed\n",
            "ERROR:yfinance:\n",
            "2 Failed downloads:\n",
            "ERROR:yfinance:['UBER', 'VLTO']: Exception(\"%ticker%: Data doesn't exist for startDate = 1502856000, endDate = 1546232400\")\n",
            "[*********************100%%**********************]  46 of 46 completed\n",
            "[*********************100%%**********************]  46 of 46 completed\n"
          ]
        },
        {
          "output_type": "stream",
          "name": "stdout",
          "text": [
            "increase iterations\n",
            "0.8655927412034146\n"
          ]
        },
        {
          "output_type": "stream",
          "name": "stderr",
          "text": [
            "<ipython-input-45-e5cb2dad7d03>:104: RuntimeWarning:\n",
            "\n",
            "divide by zero encountered in scalar divide\n",
            "\n"
          ]
        },
        {
          "output_type": "display_data",
          "data": {
            "text/plain": [
              "<Figure size 1000x600 with 1 Axes>"
            ],
            "image/png": "[encoded data removed]"
          },
          "metadata": {}
        }
      ]
    },
    {
      "cell_type": "code",
      "source": [
        "print(points)\n",
        "print(efficient_portfolios)"
      ],
      "metadata": {
        "colab": {
          "base_uri": "https://localhost:8080/"
        },
        "id": "50pydlREJixL",
        "outputId": "17c37059-0dbd-4d4c-e076-5552a761e864"
      },
      "execution_count": null,
      "outputs": [
        {
          "output_type": "stream",
          "name": "stdout",
          "text": [
            "[[0.7796336387560243, 0.49808914900652107], [0.8185874077831157, 0.952770010963001], [0.9074023232564029, 0.4314947163121491], [0.827543606981275, 0.49506719787211384], [0.929305769890881, 0.6687014363024971], [0.9339646711861161, 0.7788734898240801], [0.7857765393992611, 0.725304999675906], [0.8461144582985738, 0.817121623934095], [0.860205780647943, 1.5335180881143362], [0.8655927412034146, 0.500212198256494]]\n",
            "[[0, 0.5002123068834273], [0.1, 0.5002122444847018], [0.2, 0.5002120805931792], [0.3, 0.5002122902773369], [0.4, 0.5002127266998343], [0.5, 0.5002117462037711], [0.6, 0.5002108794759403], [0.7, 0.5002122576658915], [0.8, 0.5179636525747039], [0.9, 0.5391781436155861]]\n"
          ]
        }
      ]
    },
    {
      "cell_type": "code",
      "source": [
        "# Extra stuff\n",
        "# MAKING EFFICIENT FRONTIER CURVE (9:17 PM)\n",
        "efficient_portfolios = []\n",
        "risks = [0, 0.1, 0.2, 0.3, 0.4, 0.5, 0.6, 0.7, 0.8, 0.9]\n",
        "for risk in risks:\n",
        "  weights_complex = calculate_markowitz_weights_efficient(risk, expected_returns_ridge, covariance_matrix_historical)\n",
        "  # Calculate portfolio return for this portfolio\n",
        "  portfolio_return = calculate_portfolio_return(weights_complex)\n",
        "  portfolio_return = portfolio_return * 0.01\n",
        "  ret = [risk, portfolio_return]\n",
        "  efficient_portfolios.append(ret)\n",
        "\n",
        "risks_eff = [point[0] for point in efficient_portfolios]\n",
        "returns_eff = [point[1] for point in efficient_portfolios]\n",
        "sorted_indices = np.argsort(risks_eff)\n",
        "sorted_risks = np.array(risks_eff)[sorted_indices]\n",
        "sorted_returns = np.array(returns_eff)[sorted_indices]\n",
        "\n",
        "# plot efficient frontier\n",
        "f = interp1d(sorted_risks, sorted_returns, kind='linear')\n",
        "x_values = np.linspace(min(sorted_risks), max(sorted_risks), 100)\n",
        "plt.plot(x_values, f(x_values), color='black', label='Efficient Frontier Curve')"
      ],
      "metadata": {
        "id": "uIf7H79PD-0x"
      },
      "execution_count": null,
      "outputs": []
    }
  ],
  "metadata": {
    "colab": {
      "provenance": []
    },
    "kernelspec": {
      "display_name": "Python 3",
      "name": "python3"
    },
    "language_info": {
      "name": "python"
    }
  },
  "nbformat": 4,
  "nbformat_minor": 0
}